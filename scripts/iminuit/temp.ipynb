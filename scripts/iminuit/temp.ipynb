{
 "cells": [
  {
   "cell_type": "code",
   "execution_count": 7,
   "id": "7cb2d4a2",
   "metadata": {},
   "outputs": [
    {
     "name": "stdout",
     "output_type": "stream",
     "text": [
      "\n",
      "Fit parameters with 68.3% CL (Δχ²=1.0000):\n",
      "a = 1.9999999999999574 ± 0.07071221347706633\n",
      "b = -1.2656542480726785e-14 ± 0.15275583991922576\n",
      "χ²/ndof = 0.0/1.0 = 0.0\n",
      "\n",
      "Fit parameters with 90.0% CL (Δχ²=2.7055):\n",
      "a = 1.9999999999998228 ± 0.11630871535989376\n",
      "b = -3.859135233597044e-13 ± 0.2512555417371196\n",
      "χ²/ndof = 0.0/1.0 = 0.0\n",
      "\n",
      "Fit parameters with 95.0% CL (Δχ²=3.8415):\n",
      "a = 1.9999999999999798 ± 0.13859038242069227\n",
      "b = 1.4876988529977098e-14 ± 0.29938944392034317\n",
      "χ²/ndof = 0.0/1.0 = 0.0\n"
     ]
    },
    {
     "name": "stderr",
     "output_type": "stream",
     "text": [
      "/home/victor/.local/lib/python3.8/site-packages/iminuit/minuit.py:139: ErrordefAlreadySetWarning: cost function has an errordef attribute equal to 1.0, you should not override this with Minuit.errordef\n",
      "  warnings.warn(msg, ErrordefAlreadySetWarning)\n"
     ]
    }
   ],
   "source": [
    "from iminuit import Minuit\n",
    "from iminuit.cost import LeastSquares\n",
    "from scipy.stats import chi2\n",
    "\n",
    "def model(x, a, b):\n",
    "    return a * x + b\n",
    "\n",
    "x_data = [1, 2, 3]\n",
    "y_data = [2, 4, 6]\n",
    "y_err = [0.1, 0.1, 0.1]\n",
    "\n",
    "# Create cost function\n",
    "cost = LeastSquares(x_data, y_data, y_err, model)\n",
    "\n",
    "# Confidence levels we want to test\n",
    "confidence_levels = [0.6827, 0.9, 0.95]  # 1σ, 2σ, 3σ\n",
    "\n",
    "for cl in confidence_levels:\n",
    "    # Calculate Δχ² using chi2.ppf (1 degree of freedom)\n",
    "    delta_chi2 = chi2.ppf(cl, df=1)\n",
    "    \n",
    "    # Create Minuit instance\n",
    "    m = Minuit(cost, a=1, b=0)\n",
    "    \n",
    "    # Set confidence level\n",
    "    m.errordef = delta_chi2\n",
    "    \n",
    "    # Run minimization\n",
    "    m.migrad()\n",
    "    \n",
    "    # Print results\n",
    "    print(f\"\\nFit parameters with {cl*100:.1f}% CL (Δχ²={delta_chi2:.4f}):\")\n",
    "    print(f\"a = {m.values['a']} ± {m.errors['a']}\")\n",
    "    print(f\"b = {m.values['b']} ± {m.errors['b']}\")\n",
    "    print(f\"χ²/ndof = {m.fval:.1f}/{m.ndof} = {m.fval/m.ndof:.1f}\")"
   ]
  },
  {
   "cell_type": "code",
   "execution_count": 8,
   "id": "38bb78b3",
   "metadata": {},
   "outputs": [
    {
     "name": "stdout",
     "output_type": "stream",
     "text": [
      "CostSum in dir(iminuit.util): False\n",
      "Looking in: /home/victor/.local/lib/python3.8/site-packages/iminuit\n",
      "'class CostSum' exists: False\n"
     ]
    }
   ],
   "source": [
    "import inspect\n",
    "import iminuit.util\n",
    "\n",
    "# Check if 'CostSum' exists in iminuit.util\n",
    "print(\"CostSum in dir(iminuit.util):\", \"CostSum\" in dir(iminuit.util))\n",
    "\n",
    "# Alternative: Check the source file directly\n",
    "import os\n",
    "util_path = os.path.dirname(iminuit.util.__file__)\n",
    "print(f\"Looking in: {util_path}\")\n",
    "\n",
    "# Read the file and check for 'class CostSum'\n",
    "with open(f\"{util_path}/util.py\", \"r\") as f:\n",
    "    content = f.read()\n",
    "    print(\"'class CostSum' exists:\", \"class CostSum\" in content)"
   ]
  }
 ],
 "metadata": {
  "kernelspec": {
   "display_name": "Python 3",
   "language": "python",
   "name": "python3"
  },
  "language_info": {
   "codemirror_mode": {
    "name": "ipython",
    "version": 3
   },
   "file_extension": ".py",
   "mimetype": "text/x-python",
   "name": "python",
   "nbconvert_exporter": "python",
   "pygments_lexer": "ipython3",
   "version": "3.8.10"
  }
 },
 "nbformat": 4,
 "nbformat_minor": 5
}
