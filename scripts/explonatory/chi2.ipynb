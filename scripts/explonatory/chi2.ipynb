{
 "cells": [
  {
   "cell_type": "code",
   "execution_count": 34,
   "id": "bdd79180",
   "metadata": {},
   "outputs": [
    {
     "name": "stdout",
     "output_type": "stream",
     "text": [
      "\n",
      "90% Confidence Level Errors:\n",
      "a: 2.6138828633413995 +0.43728944631009053 -0.4372894463114987\n",
      "b: -0.5791757049881101 +0.654643926125754 -0.6546439261275131\n",
      "\n",
      "χ²/ndof = 0.8676789587852495\n",
      "┌───┬───────────┐\n",
      "│   │    a    b │\n",
      "├───┼───────────┤\n",
      "│ a │    1 -0.9 │\n",
      "│ b │ -0.9    1 │\n",
      "└───┴───────────┘\n"
     ]
    }
   ],
   "source": [
    "import numpy as np\n",
    "from iminuit import Minuit\n",
    "from iminuit.cost import LeastSquares\n",
    "\n",
    "# Model function (linear: y = a*x + b)\n",
    "def model(x, a, b):\n",
    "    return a * x + b\n",
    "\n",
    "# Data\n",
    "x_data = np.array([1, 2, 3])\n",
    "y_data = np.array([2, 5, 7])\n",
    "y_err = np.array([0.2, 0.45, 0.55])\n",
    "\n",
    "# Least-squares cost function\n",
    "cost = LeastSquares(x_data, y_data, y_err, model)\n",
    "\n",
    "# Initialize Minuit\n",
    "m = Minuit(cost, a=1, b=0)\n",
    "\n",
    "\n",
    "# Set errordef for least squares (default is 1.0, but explicit is good)\n",
    "m.errordef = 1  # or m.errordef = 1.0\n",
    "\n",
    "# Run minimization\n",
    "m.migrad()\n",
    "\n",
    "# Compute 90% CL asymmetric errors\n",
    "m.minos(cl=0.9)  # This updates m.merrors with 90% CL intervals\n",
    "\n",
    "\n",
    "# Print 90% CL asymmetric errors\n",
    "print(\"\\n90% Confidence Level Errors:\")\n",
    "print(f\"a: {m.values['a']} +{m.merrors['a'].upper} -{-m.merrors['a'].lower}\")\n",
    "print(f\"b: {m.values['b']} +{m.merrors['b'].upper} -{-m.merrors['b'].lower}\")\n",
    "\n",
    "# Goodness-of-fit\n",
    "chi2_minuit = m.fval\n",
    "ndof_minuit = m.ndof\n",
    "chi2_ndof_minuit = chi2_minuit / ndof_minuit\n",
    "\n",
    "print(f\"\\nχ²/ndof = {chi2_ndof_minuit}\")\n",
    "\n",
    "#a: 2.6138828633413995 +0.43728944631009053 -0.4372894463114987\n",
    "#b: -0.5791757049881101 +0.654643926125754 -0.6546439261275131\n",
    "#χ²/ndof = 0.8676789587852495\n",
    "\n",
    "print(m.covariance.correlation())"
   ]
  }
 ],
 "metadata": {
  "kernelspec": {
   "display_name": "base",
   "language": "python",
   "name": "python3"
  },
  "language_info": {
   "codemirror_mode": {
    "name": "ipython",
    "version": 3
   },
   "file_extension": ".py",
   "mimetype": "text/x-python",
   "name": "python",
   "nbconvert_exporter": "python",
   "pygments_lexer": "ipython3",
   "version": "3.12.2"
  }
 },
 "nbformat": 4,
 "nbformat_minor": 5
}
